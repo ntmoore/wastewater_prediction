{
 "cells": [
  {
   "cell_type": "markdown",
   "id": "7e876f20",
   "metadata": {},
   "source": [
    "What's in the data folder?\n"
   ]
  },
  {
   "cell_type": "code",
   "execution_count": 91,
   "id": "cbea4924",
   "metadata": {},
   "outputs": [
    {
     "data": {
      "text/plain": [
       "['.ipynb_checkpoints',\n",
       " 'covid_wastewater_data.ipynb',\n",
       " 'data',\n",
       " 'data_source.txt']"
      ]
     },
     "execution_count": 91,
     "metadata": {},
     "output_type": "execute_result"
    }
   ],
   "source": [
    "# grab most recent dataset\n",
    "# save as VARIANTS and PREVALENCE \n",
    "# https://metrotransitmn.shinyapps.io/metc-wastewater-covid-monitor/\n",
    "#\n",
    "import os\n",
    "where_am_I=os.getcwd()\n",
    "os.listdir()"
   ]
  },
  {
   "cell_type": "code",
   "execution_count": 99,
   "id": "30f0e9f7",
   "metadata": {},
   "outputs": [
    {
     "data": {
      "text/plain": [
       "['2020-03-28-prevalence Wastewater Treatment COVID-19 Monitoring Dashboard.csv',\n",
       " '2020-03-28-variants Wastewater Treatment COVID-19 Monitoring Dashboard.csv',\n",
       " 'data_source.txt',\n",
       " 'resaved-2020-03-28-prevalence Wastewater Treatment COVID-19 Monitoring Dashboard.csv']"
      ]
     },
     "metadata": {},
     "output_type": "display_data"
    }
   ],
   "source": [
    "c=os.listdir(where_am_I+\"/data\")\n",
    "display(c)"
   ]
  },
  {
   "cell_type": "code",
   "execution_count": 100,
   "id": "aebeb84e",
   "metadata": {},
   "outputs": [
    {
     "name": "stdout",
     "output_type": "stream",
     "text": [
      "C:\\Users\\sj5947pw\\Desktop\\Covid BA2 prediction\\python_version/data/2020-03-28-prevalence Wastewater Treatment COVID-19 Monitoring Dashboard.csv\n",
      "C:\\Users\\sj5947pw\\Desktop\\Covid BA2 prediction\\python_version/data/2020-03-28-variants Wastewater Treatment COVID-19 Monitoring Dashboard.csv\n",
      "C:\\Users\\sj5947pw\\Desktop\\Covid BA2 prediction\\python_version/data/resaved-2020-03-28-prevalence Wastewater Treatment COVID-19 Monitoring Dashboard.csv\n"
     ]
    }
   ],
   "source": [
    "prevalence_data_file=where_am_I+\"/data/\"+c[0]\n",
    "print(prevalence_data_file)\n",
    "variants_data_file=where_am_I+\"/data/\"+c[1]\n",
    "print(variants_data_file)\n",
    "try2_file=where_am_I+\"/data/\"+c[3]\n",
    "print(try2_file)"
   ]
  },
  {
   "cell_type": "markdown",
   "id": "174f3fac",
   "metadata": {},
   "source": [
    "What does the data look like?"
   ]
  },
  {
   "cell_type": "code",
   "execution_count": 118,
   "id": "a14a1277",
   "metadata": {},
   "outputs": [],
   "source": [
    "import pandas as pd\n",
    "\n",
    "df = pd.read_csv(try2_file, delimiter=',')"
   ]
  },
  {
   "cell_type": "code",
   "execution_count": 146,
   "id": "a1e3639e",
   "metadata": {},
   "outputs": [
    {
     "data": {
      "text/html": [
       "<div>\n",
       "<style scoped>\n",
       "    .dataframe tbody tr th:only-of-type {\n",
       "        vertical-align: middle;\n",
       "    }\n",
       "\n",
       "    .dataframe tbody tr th {\n",
       "        vertical-align: top;\n",
       "    }\n",
       "\n",
       "    .dataframe thead th {\n",
       "        text-align: right;\n",
       "    }\n",
       "</style>\n",
       "<table border=\"1\" class=\"dataframe\">\n",
       "  <thead>\n",
       "    <tr style=\"text-align: right;\">\n",
       "      <th></th>\n",
       "      <th>Date</th>\n",
       "      <th>Viral load in wastewater, M copies/person/day</th>\n",
       "      <th>Standard error of viral load</th>\n",
       "      <th>7-day rolling average viral load</th>\n",
       "      <th>Total COVID cases</th>\n",
       "      <th>New COVID cases</th>\n",
       "      <th>COVID cases per capita</th>\n",
       "      <th>7-day rolling average COVID cases per capita</th>\n",
       "    </tr>\n",
       "  </thead>\n",
       "  <tbody>\n",
       "    <tr>\n",
       "      <th>0</th>\n",
       "      <td>2020-11-01</td>\n",
       "      <td>181.44</td>\n",
       "      <td>0.58</td>\n",
       "      <td>203.27</td>\n",
       "      <td>87259.0</td>\n",
       "      <td>1564.0</td>\n",
       "      <td>49.0</td>\n",
       "      <td>40.0</td>\n",
       "    </tr>\n",
       "    <tr>\n",
       "      <th>1</th>\n",
       "      <td>2020-11-02</td>\n",
       "      <td>227.50</td>\n",
       "      <td>21.55</td>\n",
       "      <td>203.27</td>\n",
       "      <td>89232.0</td>\n",
       "      <td>1973.0</td>\n",
       "      <td>62.0</td>\n",
       "      <td>44.0</td>\n",
       "    </tr>\n",
       "  </tbody>\n",
       "</table>\n",
       "</div>"
      ],
      "text/plain": [
       "         Date  Viral load in wastewater, M copies/person/day  \\\n",
       "0  2020-11-01                                         181.44   \n",
       "1  2020-11-02                                         227.50   \n",
       "\n",
       "   Standard error of viral load  7-day rolling average viral load  \\\n",
       "0                          0.58                            203.27   \n",
       "1                         21.55                            203.27   \n",
       "\n",
       "   Total COVID cases  New COVID cases  COVID cases per capita  \\\n",
       "0            87259.0           1564.0                    49.0   \n",
       "1            89232.0           1973.0                    62.0   \n",
       "\n",
       "   7-day rolling average COVID cases per capita  \n",
       "0                                          40.0  \n",
       "1                                          44.0  "
      ]
     },
     "execution_count": 146,
     "metadata": {},
     "output_type": "execute_result"
    }
   ],
   "source": [
    "df.iloc[0:2,:]"
   ]
  },
  {
   "cell_type": "code",
   "execution_count": 148,
   "id": "98c4e8ae",
   "metadata": {},
   "outputs": [
    {
     "data": {
      "text/plain": [
       "0    181.44\n",
       "1    227.50\n",
       "Name: Viral load in wastewater, M copies/person/day, dtype: float64"
      ]
     },
     "execution_count": 148,
     "metadata": {},
     "output_type": "execute_result"
    }
   ],
   "source": [
    "df.iloc[0:2,1]"
   ]
  },
  {
   "cell_type": "code",
   "execution_count": 149,
   "id": "fce12556",
   "metadata": {},
   "outputs": [
    {
     "data": {
      "text/plain": [
       "[<matplotlib.lines.Line2D at 0x2505f78a0d0>]"
      ]
     },
     "execution_count": 149,
     "metadata": {},
     "output_type": "execute_result"
    },
    {
     "data": {
      "image/png": "[encoded data removed]",
      "text/plain": [
       "<Figure size 432x288 with 1 Axes>"
      ]
     },
     "metadata": {
      "needs_background": "light"
     },
     "output_type": "display_data"
    }
   ],
   "source": [
    "plt.plot(df.iloc[:,1])"
   ]
  },
  {
   "cell_type": "code",
   "execution_count": 151,
   "id": "af678e8b",
   "metadata": {},
   "outputs": [
    {
     "data": {
      "text/plain": [
       "[<matplotlib.lines.Line2D at 0x2505f78a3a0>]"
      ]
     },
     "execution_count": 151,
     "metadata": {},
     "output_type": "execute_result"
    },
    {
     "data": {
      "image/png": "[encoded data removed]",
      "text/plain": [
       "<Figure size 432x288 with 1 Axes>"
      ]
     },
     "metadata": {
      "needs_background": "light"
     },
     "output_type": "display_data"
    }
   ],
   "source": [
    "plt.plot(df.iloc[:,0],df.iloc[:,1])"
   ]
  },
  {
   "cell_type": "code",
   "execution_count": 154,
   "id": "24169b0c",
   "metadata": {},
   "outputs": [
    {
     "data": {
      "image/png": "[encoded data removed]",
      "text/plain": [
       "<Figure size 432x288 with 1 Axes>"
      ]
     },
     "metadata": {
      "needs_background": "light"
     },
     "output_type": "display_data"
    }
   ],
   "source": [
    "import matplotlib.pyplot as plt\n",
    "import matplotlib.dates as mdates\n",
    "\n",
    "plt.gca().xaxis.set_major_formatter(mdates.DateFormatter('%Y-%m-%d'))\n",
    "plt.gca().xaxis.set_major_locator(mdates.DayLocator(interval=60))\n",
    "plt.plot(    df.iloc[:,0],df.iloc[:,1])\n",
    "plt.gcf().autofmt_xdate()\n",
    "plt.show()"
   ]
  },
  {
   "cell_type": "markdown",
   "id": "8a00cdaa",
   "metadata": {},
   "source": [
    "Grab the data via numpy"
   ]
  },
  {
   "cell_type": "code",
   "execution_count": 131,
   "id": "847d74a5",
   "metadata": {},
   "outputs": [
    {
     "name": "stdout",
     "output_type": "stream",
     "text": [
      "[[       nan 1.8144e+02 5.8000e-01 ... 1.5640e+03 4.9000e+01 4.0000e+01]\n",
      " [       nan 2.2750e+02 2.1550e+01 ... 1.9730e+03 6.2000e+01 4.4000e+01]\n",
      " [       nan 2.2114e+02 5.4550e+01 ... 0.0000e+00 0.0000e+00 4.0000e+01]\n",
      " ...\n",
      " [       nan 2.1690e+01 3.6900e+00 ... 0.0000e+00 0.0000e+00 7.0000e+00]\n",
      " [       nan 2.3090e+01 1.6400e+00 ... 0.0000e+00 0.0000e+00 7.0000e+00]\n",
      " [       nan 2.8120e+01 1.1300e+00 ... 2.3100e+02 7.0000e+00 7.0000e+00]]\n"
     ]
    }
   ],
   "source": [
    "import numpy\n",
    "#prev_data = numpy.loadtxt(fname=prevalence_data_file, delimiter=',')\n",
    "from numpy import genfromtxt\n",
    "my_data = genfromtxt(\n",
    "    #dtype=('datetime64[D]',float,float,float,int,int,float,float),\n",
    "    fname=try2_file,\n",
    "    skip_header=1,\n",
    "    delimiter=','\n",
    ")\n",
    "print(my_data)"
   ]
  },
  {
   "cell_type": "code",
   "execution_count": 134,
   "id": "8eb7c8bf",
   "metadata": {},
   "outputs": [
    {
     "data": {
      "text/plain": [
       "array([ 181.44,  227.5 ,  221.14,  167.52,  218.78,     nan,     nan,\n",
       "        261.3 ,  392.15,  342.42,  342.09,  383.23,     nan,     nan,\n",
       "        345.28,  455.45,  389.72,  358.79,  601.03,     nan,     nan,\n",
       "        500.99,  380.12,  246.11,  335.  ,  315.14,     nan,     nan,\n",
       "        208.95,  383.73,  287.2 ,  334.95,  345.77,  224.55,  179.22,\n",
       "        232.22,  224.75,  203.81,  188.02,  233.41,     nan,  201.05,\n",
       "        271.2 ,  472.67,  198.72,  231.85,  156.89,     nan,     nan,\n",
       "        171.8 ,     nan,  195.69,  173.38,  181.79,   98.58,  151.16,\n",
       "        158.89,  160.35,  125.56,   73.66,  124.43,  134.18,  131.9 ,\n",
       "         80.16,  122.37,  119.08,  113.06,  143.35,     nan,     nan,\n",
       "        100.36,  100.27,   91.06,   84.74,  104.47,  102.72,   89.42,\n",
       "         82.89,   84.96,   55.58,   81.32,   77.36,   47.69,   59.31,\n",
       "         76.7 ,  110.08,   99.83,     nan,   63.36,   63.31,   78.23,\n",
       "         22.07,   52.79,   84.83,   36.06,   33.08,   66.1 ,   47.24,\n",
       "         54.24,   86.86,   51.92,   30.74,   44.11,   41.2 ,   34.41,\n",
       "         24.5 ,   34.4 ,   26.4 ,   23.36,     nan,     nan,   50.63,\n",
       "         47.51,   52.72,   33.59,   28.96,   31.73,   29.97,   32.43,\n",
       "         41.13,   34.83,   43.72,   43.28,   24.89,   37.85,   34.23,\n",
       "         32.15,   38.33,  135.99,  135.09,   34.92,  192.66,   45.01,\n",
       "         41.57,   38.12,   49.19,   50.34,   42.24,   37.67,   85.93,\n",
       "         44.96,   62.63,   54.74,   64.96,   69.17,   64.83,   73.44,\n",
       "        105.96,   85.17,   82.76,   88.44,   88.33,   90.28,  118.15,\n",
       "        105.01,   51.33,  161.29,  106.25,  101.14,   95.67,  103.11,\n",
       "         97.2 ,   86.51,   96.45,   88.2 ,  100.47,   93.39,   74.51,\n",
       "         68.92,  103.19,   77.11,   87.43,  126.43,   94.48,   80.55,\n",
       "         71.83,   84.8 ,   74.9 ,   73.49,   77.45,   72.51,   55.75,\n",
       "         57.88,  108.25,   58.36,   65.55,   41.64,   59.69,   63.55,\n",
       "         43.94,   51.42,   50.76,   73.77,   33.52,   47.74,   39.92,\n",
       "         49.02,   48.93,   33.18,   27.6 ,   28.77,   34.47,   27.05,\n",
       "         22.35,   23.8 ,   23.97,   26.01,   86.59,   32.68,   23.52,\n",
       "         26.07,   12.63,   23.84,   23.24,   19.74,   20.14,   18.91,\n",
       "         25.35,   16.96,   11.44,   14.29,   14.93,   11.59,   12.23,\n",
       "         13.11,   13.8 ,   13.03,    8.8 ,   13.98,   11.77,   32.18,\n",
       "         14.2 ,    7.13,     nan,     nan,   10.14,   16.21,    6.91,\n",
       "          7.03,   13.45,    8.6 ,   10.53,    7.58,   11.5 ,   12.49,\n",
       "         12.14,    9.08,   12.98,   13.21,   15.83,   20.31,   27.66,\n",
       "         23.46,   21.41,   18.4 ,   25.66,   29.46,   20.98,   27.89,\n",
       "         22.34,   24.97,   38.28,   26.02,   40.51,   46.02,   48.89,\n",
       "         59.14,   43.17,   54.24,   62.1 ,   59.2 ,   71.43,  104.11,\n",
       "         74.81,   85.25,   76.44,   66.19,   70.55,   84.03,   88.34,\n",
       "         72.05,   63.69,   75.57,   95.11,   68.87,   73.66,   59.56,\n",
       "        160.79,   79.65,   70.56,   76.67,   85.41,  134.09,  108.11,\n",
       "         84.62,   78.08,   79.41,   85.07,  114.2 ,  101.77,   93.55,\n",
       "         91.88,   81.43,   81.99,  104.76,   95.37,   87.93,   80.35,\n",
       "         86.73,   92.77,   89.07,  139.92,   96.23,   94.8 ,  108.35,\n",
       "        102.19,   81.83,   87.25,   76.89,  108.8 ,  111.75,  119.42,\n",
       "        108.23,  111.81,  107.5 ,     nan,  102.49,  134.8 ,  106.34,\n",
       "         90.32,  201.21,  117.62,   90.84,  134.54,  162.94,  129.03,\n",
       "        104.57,  126.42,  103.31,  110.37,  119.51,  143.46,  113.58,\n",
       "        112.01,  109.3 ,  129.53,  124.45,   90.46,  109.45,   94.28,\n",
       "        102.29,  104.15,  110.05,  109.86,  234.76,  119.1 ,  124.21,\n",
       "        131.81,  140.45,  149.81,  164.85,  244.9 ,  121.51,  181.58,\n",
       "        154.61,  170.63,  171.37,  198.81,  239.22,  221.27,  202.23,\n",
       "        182.66,  227.47,  236.38,  243.73,  276.52,  302.61,  263.43,\n",
       "        288.79,  294.12,  261.71,  313.59,  291.96,  548.32,  369.43,\n",
       "        242.44,  210.31,  383.87,  338.89,  420.07,  339.47,  309.05,\n",
       "        331.61,  392.49,  350.55,  414.27,  337.36,  385.84,  345.42,\n",
       "        305.88,  373.76,  331.46,     nan,  362.43,  332.08,  335.51,\n",
       "        278.1 ,  352.16,  347.95,  567.09,  309.26,  291.44,  232.13,\n",
       "        307.26,  325.41,  364.9 ,  411.11,  487.56,  468.55,  546.78,\n",
       "        590.83,  601.64,  754.23,  739.73,  859.9 ,  955.49,  759.36,\n",
       "        688.02,  827.52,  944.49, 1028.76, 1047.49,  910.38,  855.82,\n",
       "       1015.64,  866.9 ,  800.1 ,  679.04,  639.97,  534.25,  530.56,\n",
       "        397.26,  378.15,  409.33,  412.65,  335.36,  317.34,  322.61,\n",
       "        205.11,  290.5 ,  246.91,  211.55,  179.81,  157.28,  149.47,\n",
       "        145.22,  132.56,  168.3 ,  291.08,  129.57,   70.27,   78.27,\n",
       "         80.56,   87.58,   81.61,   83.33,   55.39,   63.62,   61.07,\n",
       "         43.11,   33.53,   47.47,   48.91,   44.91,   98.58,   37.78,\n",
       "         38.77,   31.93,   40.82,   34.56,  144.24,   30.59,   24.8 ,\n",
       "         23.17,   27.69,   25.26,   27.68,   21.23,   22.98,   28.86,\n",
       "         20.88,   15.51,   20.38,   23.01,   21.9 ,   21.9 ,   24.1 ,\n",
       "         20.29,   18.18,   20.97,   23.2 ,   27.61,   28.54,   21.69,\n",
       "         23.09,   28.12])"
      ]
     },
     "execution_count": 134,
     "metadata": {},
     "output_type": "execute_result"
    }
   ],
   "source": [
    "my_data[:,1]"
   ]
  },
  {
   "cell_type": "code",
   "execution_count": 143,
   "id": "216b856c",
   "metadata": {
    "scrolled": true
   },
   "outputs": [
    {
     "data": {
      "text/plain": [
       "[<matplotlib.lines.Line2D at 0x2505faa9c40>]"
      ]
     },
     "execution_count": 143,
     "metadata": {},
     "output_type": "execute_result"
    },
    {
     "data": {
      "image/png": "[encoded data removed]",
      "text/plain": [
       "<Figure size 432x288 with 1 Axes>"
      ]
     },
     "metadata": {
      "needs_background": "light"
     },
     "output_type": "display_data"
    }
   ],
   "source": [
    "plt.plot(my_data[:,1],'.')"
   ]
  },
  {
   "cell_type": "code",
   "execution_count": null,
   "id": "4799870f",
   "metadata": {},
   "outputs": [],
   "source": []
  }
 ],
 "metadata": {
  "kernelspec": {
   "display_name": "Python 3 (ipykernel)",
   "language": "python",
   "name": "python3"
  },
  "language_info": {
   "codemirror_mode": {
    "name": "ipython",
    "version": 3
   },
   "file_extension": ".py",
   "mimetype": "text/x-python",
   "name": "python",
   "nbconvert_exporter": "python",
   "pygments_lexer": "ipython3",
   "version": "3.9.7"
  }
 },
 "nbformat": 4,
 "nbformat_minor": 5
}
