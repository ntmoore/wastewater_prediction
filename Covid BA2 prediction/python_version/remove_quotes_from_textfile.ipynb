{
 "cells": [
  {
   "cell_type": "code",
   "execution_count": 5,
   "id": "f490fb2d",
   "metadata": {},
   "outputs": [
    {
     "name": "stdout",
     "output_type": "stream",
     "text": [
      "\"Date\",\"Viral load in wastewater, M copies/person/day\",\"Standard error of viral load\",\"7-day rolling average viral load\",\"Total COVID cases\",\"New COVID cases\",\"COVID cases per capita\",\"7-day rolling average COVID cases per capita\"\n",
      "\n",
      "\"2020-11-01\",\"181.44\",\"0.58\",\"203.27\",\"87,259\",\"1,564\",\"49\",\"40\"\n",
      "\n"
     ]
    }
   ],
   "source": [
    "# read in csv file, line by line\n",
    "# Python code to\n",
    "# demonstrate readlines()\n",
    " \n",
    " \n",
    "# Using readlines()\n",
    "path=\"./data/\"\n",
    "filename=\"2020-03-28-prevalence Wastewater Treatment COVID-19 Monitoring Dashboard.csv\"\n",
    "file1 = open(path+filename, 'r')\n",
    "Lines = file1.readlines()\n",
    "print(Lines[0])\n",
    "print(Lines[1])\n"
   ]
  },
  {
   "cell_type": "code",
   "execution_count": 18,
   "id": "2b420b8a",
   "metadata": {},
   "outputs": [
    {
     "name": "stdout",
     "output_type": "stream",
     "text": [
      "['', '2020-11-01', ',', '181.44', ',', '0.58', ',', '203.27', ',', '87,259', ',', '1,564', ',', '49', ',', '40', '\\n']\n"
     ]
    }
   ],
   "source": [
    "print(\n",
    "    Lines[1].split(\"\\\"\")\n",
    "     )"
   ]
  },
  {
   "cell_type": "code",
   "execution_count": 19,
   "id": "8b6fc299",
   "metadata": {},
   "outputs": [],
   "source": [
    "a=Lines[1].split(\"\\\"\")\n",
    "b=\"\".join(a)"
   ]
  },
  {
   "cell_type": "code",
   "execution_count": 20,
   "id": "8ab3fbf4",
   "metadata": {},
   "outputs": [
    {
     "data": {
      "text/plain": [
       "['',\n",
       " '2020-11-01',\n",
       " ',',\n",
       " '181.44',\n",
       " ',',\n",
       " '0.58',\n",
       " ',',\n",
       " '203.27',\n",
       " ',',\n",
       " '87,259',\n",
       " ',',\n",
       " '1,564',\n",
       " ',',\n",
       " '49',\n",
       " ',',\n",
       " '40',\n",
       " '\\n']"
      ]
     },
     "metadata": {},
     "output_type": "display_data"
    },
    {
     "name": "stdout",
     "output_type": "stream",
     "text": [
      "2020-11-01,181.44,0.58,203.27,87,259,1,564,49,40\n",
      "\n"
     ]
    }
   ],
   "source": [
    "display(a)\n",
    "print(b)"
   ]
  },
  {
   "cell_type": "code",
   "execution_count": 24,
   "id": "a1c90c6d",
   "metadata": {},
   "outputs": [
    {
     "name": "stdout",
     "output_type": "stream",
     "text": [
      "1 [1, 2, 3]\n",
      "2 [1, 2, 3]\n",
      "3 [1, 2, 3]\n"
     ]
    }
   ],
   "source": [
    "x=[1,2,3]\n",
    "for y in x:\n",
    "    print(y,x)"
   ]
  },
  {
   "cell_type": "code",
   "execution_count": null,
   "id": "0a05bf7d",
   "metadata": {},
   "outputs": [],
   "source": [
    "#for each line in the file:\n",
    "# read in\n",
    "# split on \"\n",
    "# join without \"\n",
    "# save line in new file"
   ]
  },
  {
   "cell_type": "code",
   "execution_count": 25,
   "id": "760f1aa3",
   "metadata": {},
   "outputs": [],
   "source": [
    "file2=open(path+\"cleaned-\"+filename,\"w\")\n",
    "file2.writelines(b)\n",
    "file2.close()"
   ]
  },
  {
   "cell_type": "code",
   "execution_count": 39,
   "id": "e6c139a4",
   "metadata": {},
   "outputs": [
    {
     "name": "stdout",
     "output_type": "stream",
     "text": [
      "507 lines\n"
     ]
    }
   ],
   "source": [
    "# Using readlines()\n",
    "\n",
    "path=\"./data/\"\n",
    "filename=\"2020-03-28-prevalence Wastewater Treatment COVID-19 Monitoring Dashboard.csv\"\n",
    "\n",
    "file_in = open(path+filename, 'r')\n",
    "\n",
    "file_out = open(path+\"cleaned-\"+filename,\"w\")\n",
    "\n",
    "Lines = file_in.readlines()\n",
    "print(len(Lines),\"lines\")\n",
    "\n",
    "for line in Lines:\n",
    "    a=line.split(\"\\\"\")\n",
    "    b=\"\".join(a)\n",
    "    #print(line,\"\\n\",a,\"\\n\",b,\"\\n\")\n",
    "    file_out.writelines(b)\n",
    "    \n",
    "file_in.close()\n",
    "file_out.close()"
   ]
  }
 ],
 "metadata": {
  "kernelspec": {
   "display_name": "Python 3 (ipykernel)",
   "language": "python",
   "name": "python3"
  },
  "language_info": {
   "codemirror_mode": {
    "name": "ipython",
    "version": 3
   },
   "file_extension": ".py",
   "mimetype": "text/x-python",
   "name": "python",
   "nbconvert_exporter": "python",
   "pygments_lexer": "ipython3",
   "version": "3.9.7"
  }
 },
 "nbformat": 4,
 "nbformat_minor": 5
}
